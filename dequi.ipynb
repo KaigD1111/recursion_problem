{
  "nbformat": 4,
  "nbformat_minor": 0,
  "metadata": {
    "colab": {
      "provenance": []
    },
    "kernelspec": {
      "name": "python3",
      "display_name": "Python 3"
    },
    "language_info": {
      "name": "python"
    }
  },
  "cells": [
    {
      "cell_type": "markdown",
      "source": [
        "# bài toán fibo/con thỏ"
      ],
      "metadata": {
        "id": "xoH3wjoYaLKr"
      }
    },
    {
      "cell_type": "markdown",
      "source": [
        "Fibo / con thỏ\n",
        "Bài toán con thỏ theo chuỗi Fibonacci là một bài toán về sự sinh sản của một cặp thỏ. Giả sử ban đầu ta có một cặp thỏ, một con đực và một con cái. Chúng sẽ đẻ một con thỏ trong tháng đầu tiên, sau đó trong mỗi tháng tiếp theo, cặp thỏ sẽ sinh thêm một con thỏ nữa (một con đực và một con cái). Ta giả sử rằng tất cả các con thỏ đều có khả năng sinh sản khi đến tháng thứ hai của mình và chúng không có giới hạn tuổi thọ.\n",
        "Điều này có thể được giải thích bằng cách xem xét cách sinh sản của cặp thỏ. Vào tháng thứ nhất, cặp thỏ sinh ra một con thỏ. Sau đó, trong tháng thứ hai, cặp thỏ sinh ra một con thỏ khác và con thỏ đầu tiên cũng đã trưởng thành và có thể sinh sản. Vì vậy, vào tháng thứ hai, chúng ta có hai cặp thỏ, và chúng sinh ra một con thỏ nữa vào tháng đó. Vào tháng thứ ba, có ba cặp thỏ và chúng sinh ra hai con thỏ. Vào tháng thứ tư, có năm cặp thỏ và chúng sinh ra ba con thỏ\n"
      ],
      "metadata": {
        "id": "I8Pz0bxOZi1J"
      }
    },
    {
      "cell_type": "code",
      "execution_count": 2,
      "metadata": {
        "colab": {
          "base_uri": "https://localhost:8080/"
        },
        "id": "BQd1kFpJZfa_",
        "outputId": "4e593ef8-5402-4166-a678-ca56b5a85fe1"
      },
      "outputs": [
        {
          "output_type": "stream",
          "name": "stdout",
          "text": [
            "Nhập số tháng: 10\n",
            "Số lượng thỏ sau 10 tháng là 55\n"
          ]
        }
      ],
      "source": [
        "def fibonacci(n):\n",
        "    if n == 0:\n",
        "        return 0\n",
        "    elif n == 1:\n",
        "        return 1\n",
        "    else:\n",
        "        return fibonacci(n-1) + fibonacci(n-2)\n",
        "\n",
        "def rabbit_fibonacci(months):\n",
        "    if months <= 0:\n",
        "        return 0\n",
        "    elif months == 1 or months == 2:\n",
        "        return 1\n",
        "    else:\n",
        "        return fibonacci(months - 2) + fibonacci(months - 1)\n",
        "\n",
        "months = int(input(\"Nhập số tháng: \"))\n",
        "rabbits = rabbit_fibonacci(months)\n",
        "print(\"Số lượng thỏ sau\", months, \"tháng là\", rabbits)\n"
      ]
    },
    {
      "cell_type": "markdown",
      "source": [
        "Phương trình đệ qui:\n",
        "T(n) = T(n-1) + T(n-2) + 1\n"
      ],
      "metadata": {
        "id": "-D9L6lCvZo4g"
      }
    },
    {
      "cell_type": "markdown",
      "source": [
        "# Bài toán Tháp Hà Nội"
      ],
      "metadata": {
        "id": "yRHl4MigZgIB"
      }
    },
    {
      "cell_type": "markdown",
      "source": [
        "Bài toán tháp Hà Nội \n",
        "Giả sử chúng ta có ba cột, cột A, cột B, cột C. Ban đầu, tất cả các đĩa được xếp trên cột A theo thứ tự kích thước giảm dần, với đĩa nhỏ nhất nằm trên cùng. Nhiệm vụ của chúng ta là di chuyển tất cả các đĩa từ cột A sang cột C thông qua cột B.\n",
        "Để giải quyết bài toán, ta sử dụng đệ qui theo các bước sau:\n",
        "•\tBước 1: Di chuyển n-1 đĩa từ cột A sang cột B thông qua cột C.\n",
        "•\tBước 2: Di chuyển đĩa lớn nhất từ cột A sang cột C.\n",
        "•\tBước 3: Di chuyển n-1 đĩa từ cột B sang cột C thông qua cột A."
      ],
      "metadata": {
        "id": "inhWHI1fZpi2"
      }
    },
    {
      "cell_type": "code",
      "source": [
        "def thap_ha_noi(n, cot_a, cot_b, cot_c):\n",
        "    if n == 1:\n",
        "        print(\"Di chuyen dia thu\", n, \"tu\", cot_a, \"sang\", cot_c)\n",
        "    else:\n",
        "        thap_ha_noi(n-1, cot_a, cot_c, cot_b)\n",
        "        print(\"Di chuyen dia thu\", n, \"tu\", cot_a, \"sang\", cot_c)\n",
        "        thap_ha_noi(n-1, cot_b, cot_a, cot_c)\n",
        "\n",
        "def tower_of_hanoi(n, source, auxiliary, target):\n",
        "    if n > 0:\n",
        "        # Di chuyển n-1 đĩa từ cọc nguồn (source) sang cọc trung gian (auxiliary)\n",
        "        tower_of_hanoi(n-1, source, target, auxiliary)\n",
        "        \n",
        "        # Di chuyển đĩa còn lại từ cọc nguồn (source) sang cọc đích (target)\n",
        "        print(\"Di chuyển đĩa\", n, \"từ\", source, \"sang\", target)\n",
        "        \n",
        "        # Di chuyển n-1 đĩa từ cọc trung gian (auxiliary) sang cọc đích (target)\n",
        "        tower_of_hanoi(n-1, auxiliary, source, target)\n",
        "\n",
        "# Gọi hàm để giải bài toán tháp Hà Nội với 3 đĩa trên cọc A, B, C\n",
        "n = 3  # Số lượng đĩa\n",
        "tower_of_hanoi(n, 'A', 'B', 'C')\n"
      ],
      "metadata": {
        "colab": {
          "base_uri": "https://localhost:8080/"
        },
        "id": "9iuApCY1ZuRk",
        "outputId": "45e8c5b0-8cca-4b48-aca6-7ae1bdafd3a2"
      },
      "execution_count": 3,
      "outputs": [
        {
          "output_type": "stream",
          "name": "stdout",
          "text": [
            "Di chuyển đĩa 1 từ A sang C\n",
            "Di chuyển đĩa 2 từ A sang B\n",
            "Di chuyển đĩa 1 từ C sang B\n",
            "Di chuyển đĩa 3 từ A sang C\n",
            "Di chuyển đĩa 1 từ B sang A\n",
            "Di chuyển đĩa 2 từ B sang C\n",
            "Di chuyển đĩa 1 từ A sang C\n"
          ]
        }
      ]
    },
    {
      "cell_type": "markdown",
      "source": [
        "Phương trình đệ qui : T(n) = 2 * T(n-1) + 1\n",
        "Khi chuyển n đĩa từ cọc A sang cọc C, ta phải thực hiện hai lần chuyển đĩa từ cọc A sang cọc B và từ cọc B sang cọc C. Với n-1 đĩa, ta cũng cần thực hiện các bước tương tự để chuyển chúng từ cọc A sang cọc B, sau đó từ cọc B sang cọc C. Do đó, để chuyển n đĩa từ cọc A sang cọc C, ta cần thực hiện 2 lần T(n-1) để chuyển n-1 đĩa từ cọc A sang cọc B và từ cọc B sang cọc C, cộng với 1 lần chuyển đĩa lớn nhất từ cọc A sang cọc C. Do đó, phương trình đệ qui của bài toán Tháp Hà Nội được viết dưới dạng:\n",
        "T(n) = 2 * T(n-1) + 1\n",
        "Khi n = 1, T(1) = 1, tức là chỉ cần 1 lần chuyển đĩa từ cọc A sang cọc C.\n"
      ],
      "metadata": {
        "id": "tNRDnQiTZ1ML"
      }
    },
    {
      "cell_type": "markdown",
      "source": [
        "bài toán : tô màu đồ thị "
      ],
      "metadata": {
        "id": "Na8sI_ntaUV2"
      }
    },
    {
      "cell_type": "markdown",
      "source": [
        "Bài toán Tô màu: Tô màu một đồ thị bằng cách sử dụng ít màu nhất có thể sao cho các đỉnh kề nhau có màu khác nhau."
      ],
      "metadata": {
        "id": "yODHPFueZzab"
      }
    },
    {
      "cell_type": "code",
      "source": [
        "# hàm tô màu đệ qui\n",
        "def color(graph, vertex, colors, n, c):\n",
        "    # nếu tất cả các đỉnh đã được tô màu, trả về True\n",
        "    if vertex == n:\n",
        "        return True\n",
        "\n",
        "    # thử tất cả các màu có thể cho đỉnh hiện tại\n",
        "    for i in range(1, c+1):\n",
        "        can_color = True\n",
        "        for j in range(n):\n",
        "            # kiểm tra xem đỉnh hiện tại có kề với một đỉnh khác đã được tô màu bằng màu i không\n",
        "            if graph[vertex][j] and colors[j] == i:\n",
        "                can_color = False\n",
        "                break\n",
        "        if can_color:\n",
        "            # nếu đỉnh hiện tại có thể tô màu bằng màu i, thì tiếp tục tô màu cho đỉnh kế tiếp\n",
        "            colors[vertex] = i\n",
        "            if color(graph, vertex+1, colors, n, c):\n",
        "                return True\n",
        "            colors[vertex] = 0\n",
        "\n",
        "    # nếu không tìm thấy một màu nào có thể tô cho đỉnh hiện tại, trả về False\n",
        "    return False\n",
        "\n",
        "# hàm để in kết quả\n",
        "def print_colors(colors):\n",
        "    print(\"Các màu tương ứng với các đỉnh:\")\n",
        "    for i, color in enumerate(colors):\n",
        "        print(\"Đỉnh {} được tô màu {}\".format(i+1, color))\n",
        "\n",
        "# đồ thị\n",
        "graph = [[0, 1, 1, 1],\n",
        "         [1, 0, 1, 0],\n",
        "         [1, 1, 0, 1],\n",
        "         [1, 0, 1, 0]]\n",
        "\n",
        "n = len(graph) # số đỉnh\n",
        "c = 3 # số màu có thể sử dụng\n",
        "\n",
        "colors = [0]*n # danh sách các màu cho các đỉnh\n",
        "\n",
        "# thử tô màu đồ thị bắt đầu từ đỉnh 1\n",
        "if color(graph, 0, colors, n, c):\n",
        "      print_colors(colors)\n",
        "else:\n",
        "    print(\"Không thể tô màu cho đồ thị này với\", c, \"màu.\")\n",
        "\n"
      ],
      "metadata": {
        "colab": {
          "base_uri": "https://localhost:8080/"
        },
        "id": "8LRJdm_jZ2c-",
        "outputId": "5820f8f9-e892-4274-8d88-9381657f33c6"
      },
      "execution_count": 4,
      "outputs": [
        {
          "output_type": "stream",
          "name": "stdout",
          "text": [
            "Các màu tương ứng với các đỉnh:\n",
            "Đỉnh 1 được tô màu 1\n",
            "Đỉnh 2 được tô màu 2\n",
            "Đỉnh 3 được tô màu 3\n",
            "Đỉnh 4 được tô màu 2\n"
          ]
        }
      ]
    },
    {
      "cell_type": "markdown",
      "source": [
        "Phương trình đệ qui T(n) có thể được mô tả như sau:\n",
        "•\tNếu số đỉnh của đồ thị là n = 1, thì T(n) = 1.\n",
        "•\tNếu số đỉnh của đồ thị là n > 1, thì T(n) = T(n-1) * k, với k là số màu có sẵn để sử dụng.\n",
        "Phương trình này cho biết số cách khác nhau để tô màu cho đồ thị với n đỉnh. Cụ thể, để tô màu cho đỉnh thứ n, chúng ta có k cách chọn màu. Vì vậy, tổng số cách tô màu cho đồ thị n đỉnh sẽ là \n",
        "T(n) = T(n-1) * k.\n"
      ],
      "metadata": {
        "id": "-zMuOTRsaDil"
      }
    }
  ]
}